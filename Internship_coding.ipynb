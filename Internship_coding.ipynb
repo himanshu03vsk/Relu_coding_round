{
  "nbformat": 4,
  "nbformat_minor": 0,
  "metadata": {
    "colab": {
      "name": "Internship coding.ipynb",
      "provenance": [],
      "collapsed_sections": [],
      "authorship_tag": "ABX9TyPgRQRPr9NH+dUZQFJbr1Sd",
      "include_colab_link": true
    },
    "kernelspec": {
      "name": "python3",
      "display_name": "Python 3"
    },
    "language_info": {
      "name": "python"
    }
  },
  "cells": [
    {
      "cell_type": "markdown",
      "metadata": {
        "id": "view-in-github",
        "colab_type": "text"
      },
      "source": [
        "<a href=\"https://colab.research.google.com/github/himanshu03vsk/Relu_coding_round/blob/master/Internship_coding.ipynb\" target=\"_parent\"><img src=\"https://colab.research.google.com/assets/colab-badge.svg\" alt=\"Open In Colab\"/></a>"
      ]
    },
    {
      "cell_type": "markdown",
      "source": [
        "The below code does iteratre through the csv file and extracts its price, name, image and detail. I observed few things.\n",
        "<ul>\n",
        "<li> The two different country code have a different class naming strategy, which causes the code to break. given more time I would have been able to solve this.\n",
        "<li>There is some kind of encoding issue which causes whitespaces to not be stripped when i call `strip()` method which is reflected in the json file\n",
        "<li> I had a bit confusion of do i print the wall time or the cpu time for individual iteration or whole dataframe. So i went ahead and printed the wall time for both cases.\n",
        "\n"
      ],
      "metadata": {
        "id": "9TChMpOxTMdh"
      }
    },
    {
      "cell_type": "code",
      "execution_count": null,
      "metadata": {
        "id": "qREYia6hVHV3"
      },
      "outputs": [],
      "source": [
        "!pip3 install Scrapy"
      ]
    },
    {
      "cell_type": "code",
      "source": [
        "!pip3 install wget"
      ],
      "metadata": {
        "id": "y2xo5MGbW7o4"
      },
      "execution_count": null,
      "outputs": []
    },
    {
      "cell_type": "code",
      "source": [
        "!wget --no-check-certificate -O amazon_scraping.csv 'https://docs.google.com/spreadsheets/d/1BZSPhk1LDrx8ytywMHWVpCqbm8URTxTJrIRkD7PnGTM/export?gid=0&format=csv'"
      ],
      "metadata": {
        "id": "W4LAUVILXAeO"
      },
      "execution_count": null,
      "outputs": []
    },
    {
      "cell_type": "code",
      "source": [
        "# After checking that the required libs are installed lets look at the main problem\n",
        "# The task is to simply go to the target endpoint and use the bs4 lib to scrape\n",
        "# the content required by task\n",
        "\n",
        "'''Use Selenium or bs4 to Scarpe the following details from the page.\n",
        "1. Product Title\n",
        "2. Product Image URL\n",
        "3. Price of the Product\n",
        "4. Product Details\n",
        "If any URL throws Error 404 then print the {URL} not available and skip that\n",
        "URL.'''"
      ],
      "metadata": {
        "id": "tZoaVPtaV8Lk"
      },
      "execution_count": null,
      "outputs": []
    },
    {
      "cell_type": "code",
      "source": [
        "from bs4 import BeautifulSoup\n",
        "import requests\n",
        "import pandas as pd\n",
        "import requests\n",
        "from time import time\n",
        "\n",
        "df = pd.read_csv(\"amazon_scraping.csv\")"
      ],
      "metadata": {
        "id": "hc28XwlZWdcG"
      },
      "execution_count": 40,
      "outputs": []
    },
    {
      "cell_type": "code",
      "source": [
        "df.info()"
      ],
      "metadata": {
        "colab": {
          "base_uri": "https://localhost:8080/"
        },
        "id": "BOSIJBnnbeWR",
        "outputId": "063278de-adaf-4a7e-b474-48ea1357b58b"
      },
      "execution_count": 41,
      "outputs": [
        {
          "output_type": "stream",
          "name": "stdout",
          "text": [
            "<class 'pandas.core.frame.DataFrame'>\n",
            "RangeIndex: 1000 entries, 0 to 999\n",
            "Data columns (total 4 columns):\n",
            " #   Column      Non-Null Count  Dtype \n",
            "---  ------      --------------  ----- \n",
            " 0   Unnamed: 0  1000 non-null   int64 \n",
            " 1   id          1000 non-null   int64 \n",
            " 2   Asin        1000 non-null   object\n",
            " 3   country     1000 non-null   object\n",
            "dtypes: int64(2), object(2)\n",
            "memory usage: 31.4+ KB\n"
          ]
        }
      ]
    },
    {
      "cell_type": "code",
      "source": [
        "# lets drop the unnamed :0 column we can use drop funtion or just do it like this\n",
        "df = df[[\"id\", \"Asin\", \"country\"]]\n",
        "df"
      ],
      "metadata": {
        "colab": {
          "base_uri": "https://localhost:8080/",
          "height": 424
        },
        "id": "Hc03mcnabmfp",
        "outputId": "befd230e-cd3c-41ab-9b6c-e3eb97b563ac"
      },
      "execution_count": 42,
      "outputs": [
        {
          "output_type": "execute_result",
          "data": {
            "text/plain": [
              "          id        Asin country\n",
              "0          1        1015      de\n",
              "1    2424796        1015      fr\n",
              "2          2  000004458X      de\n",
              "3    2424797  000004458X      fr\n",
              "4          3     1002198      de\n",
              "..       ...         ...     ...\n",
              "995  2425286     4484924      fr\n",
              "996      449     4485742      de\n",
              "997  2425287     4485742      fr\n",
              "998      450     4486072      de\n",
              "999  2425288     4486072      fr\n",
              "\n",
              "[1000 rows x 3 columns]"
            ],
            "text/html": [
              "\n",
              "  <div id=\"df-4d30e648-0ad8-46d9-a3f4-cdcbd29b0ab4\">\n",
              "    <div class=\"colab-df-container\">\n",
              "      <div>\n",
              "<style scoped>\n",
              "    .dataframe tbody tr th:only-of-type {\n",
              "        vertical-align: middle;\n",
              "    }\n",
              "\n",
              "    .dataframe tbody tr th {\n",
              "        vertical-align: top;\n",
              "    }\n",
              "\n",
              "    .dataframe thead th {\n",
              "        text-align: right;\n",
              "    }\n",
              "</style>\n",
              "<table border=\"1\" class=\"dataframe\">\n",
              "  <thead>\n",
              "    <tr style=\"text-align: right;\">\n",
              "      <th></th>\n",
              "      <th>id</th>\n",
              "      <th>Asin</th>\n",
              "      <th>country</th>\n",
              "    </tr>\n",
              "  </thead>\n",
              "  <tbody>\n",
              "    <tr>\n",
              "      <th>0</th>\n",
              "      <td>1</td>\n",
              "      <td>1015</td>\n",
              "      <td>de</td>\n",
              "    </tr>\n",
              "    <tr>\n",
              "      <th>1</th>\n",
              "      <td>2424796</td>\n",
              "      <td>1015</td>\n",
              "      <td>fr</td>\n",
              "    </tr>\n",
              "    <tr>\n",
              "      <th>2</th>\n",
              "      <td>2</td>\n",
              "      <td>000004458X</td>\n",
              "      <td>de</td>\n",
              "    </tr>\n",
              "    <tr>\n",
              "      <th>3</th>\n",
              "      <td>2424797</td>\n",
              "      <td>000004458X</td>\n",
              "      <td>fr</td>\n",
              "    </tr>\n",
              "    <tr>\n",
              "      <th>4</th>\n",
              "      <td>3</td>\n",
              "      <td>1002198</td>\n",
              "      <td>de</td>\n",
              "    </tr>\n",
              "    <tr>\n",
              "      <th>...</th>\n",
              "      <td>...</td>\n",
              "      <td>...</td>\n",
              "      <td>...</td>\n",
              "    </tr>\n",
              "    <tr>\n",
              "      <th>995</th>\n",
              "      <td>2425286</td>\n",
              "      <td>4484924</td>\n",
              "      <td>fr</td>\n",
              "    </tr>\n",
              "    <tr>\n",
              "      <th>996</th>\n",
              "      <td>449</td>\n",
              "      <td>4485742</td>\n",
              "      <td>de</td>\n",
              "    </tr>\n",
              "    <tr>\n",
              "      <th>997</th>\n",
              "      <td>2425287</td>\n",
              "      <td>4485742</td>\n",
              "      <td>fr</td>\n",
              "    </tr>\n",
              "    <tr>\n",
              "      <th>998</th>\n",
              "      <td>450</td>\n",
              "      <td>4486072</td>\n",
              "      <td>de</td>\n",
              "    </tr>\n",
              "    <tr>\n",
              "      <th>999</th>\n",
              "      <td>2425288</td>\n",
              "      <td>4486072</td>\n",
              "      <td>fr</td>\n",
              "    </tr>\n",
              "  </tbody>\n",
              "</table>\n",
              "<p>1000 rows × 3 columns</p>\n",
              "</div>\n",
              "      <button class=\"colab-df-convert\" onclick=\"convertToInteractive('df-4d30e648-0ad8-46d9-a3f4-cdcbd29b0ab4')\"\n",
              "              title=\"Convert this dataframe to an interactive table.\"\n",
              "              style=\"display:none;\">\n",
              "        \n",
              "  <svg xmlns=\"http://www.w3.org/2000/svg\" height=\"24px\"viewBox=\"0 0 24 24\"\n",
              "       width=\"24px\">\n",
              "    <path d=\"M0 0h24v24H0V0z\" fill=\"none\"/>\n",
              "    <path d=\"M18.56 5.44l.94 2.06.94-2.06 2.06-.94-2.06-.94-.94-2.06-.94 2.06-2.06.94zm-11 1L8.5 8.5l.94-2.06 2.06-.94-2.06-.94L8.5 2.5l-.94 2.06-2.06.94zm10 10l.94 2.06.94-2.06 2.06-.94-2.06-.94-.94-2.06-.94 2.06-2.06.94z\"/><path d=\"M17.41 7.96l-1.37-1.37c-.4-.4-.92-.59-1.43-.59-.52 0-1.04.2-1.43.59L10.3 9.45l-7.72 7.72c-.78.78-.78 2.05 0 2.83L4 21.41c.39.39.9.59 1.41.59.51 0 1.02-.2 1.41-.59l7.78-7.78 2.81-2.81c.8-.78.8-2.07 0-2.86zM5.41 20L4 18.59l7.72-7.72 1.47 1.35L5.41 20z\"/>\n",
              "  </svg>\n",
              "      </button>\n",
              "      \n",
              "  <style>\n",
              "    .colab-df-container {\n",
              "      display:flex;\n",
              "      flex-wrap:wrap;\n",
              "      gap: 12px;\n",
              "    }\n",
              "\n",
              "    .colab-df-convert {\n",
              "      background-color: #E8F0FE;\n",
              "      border: none;\n",
              "      border-radius: 50%;\n",
              "      cursor: pointer;\n",
              "      display: none;\n",
              "      fill: #1967D2;\n",
              "      height: 32px;\n",
              "      padding: 0 0 0 0;\n",
              "      width: 32px;\n",
              "    }\n",
              "\n",
              "    .colab-df-convert:hover {\n",
              "      background-color: #E2EBFA;\n",
              "      box-shadow: 0px 1px 2px rgba(60, 64, 67, 0.3), 0px 1px 3px 1px rgba(60, 64, 67, 0.15);\n",
              "      fill: #174EA6;\n",
              "    }\n",
              "\n",
              "    [theme=dark] .colab-df-convert {\n",
              "      background-color: #3B4455;\n",
              "      fill: #D2E3FC;\n",
              "    }\n",
              "\n",
              "    [theme=dark] .colab-df-convert:hover {\n",
              "      background-color: #434B5C;\n",
              "      box-shadow: 0px 1px 3px 1px rgba(0, 0, 0, 0.15);\n",
              "      filter: drop-shadow(0px 1px 2px rgba(0, 0, 0, 0.3));\n",
              "      fill: #FFFFFF;\n",
              "    }\n",
              "  </style>\n",
              "\n",
              "      <script>\n",
              "        const buttonEl =\n",
              "          document.querySelector('#df-4d30e648-0ad8-46d9-a3f4-cdcbd29b0ab4 button.colab-df-convert');\n",
              "        buttonEl.style.display =\n",
              "          google.colab.kernel.accessAllowed ? 'block' : 'none';\n",
              "\n",
              "        async function convertToInteractive(key) {\n",
              "          const element = document.querySelector('#df-4d30e648-0ad8-46d9-a3f4-cdcbd29b0ab4');\n",
              "          const dataTable =\n",
              "            await google.colab.kernel.invokeFunction('convertToInteractive',\n",
              "                                                     [key], {});\n",
              "          if (!dataTable) return;\n",
              "\n",
              "          const docLinkHtml = 'Like what you see? Visit the ' +\n",
              "            '<a target=\"_blank\" href=https://colab.research.google.com/notebooks/data_table.ipynb>data table notebook</a>'\n",
              "            + ' to learn more about interactive tables.';\n",
              "          element.innerHTML = '';\n",
              "          dataTable['output_type'] = 'display_data';\n",
              "          await google.colab.output.renderOutput(dataTable, element);\n",
              "          const docLink = document.createElement('div');\n",
              "          docLink.innerHTML = docLinkHtml;\n",
              "          element.appendChild(docLink);\n",
              "        }\n",
              "      </script>\n",
              "    </div>\n",
              "  </div>\n",
              "  "
            ]
          },
          "metadata": {},
          "execution_count": 42
        }
      ]
    },
    {
      "cell_type": "code",
      "source": [
        "countries = df.country.values\n",
        "asins = df.Asin.values\n",
        "print(len(countries), len(asins))"
      ],
      "metadata": {
        "colab": {
          "base_uri": "https://localhost:8080/"
        },
        "id": "sFcJ9Ri3bTBs",
        "outputId": "d17aefb3-cdde-4c4f-9a98-b04ad3319242"
      },
      "execution_count": 43,
      "outputs": [
        {
          "output_type": "stream",
          "name": "stdout",
          "text": [
            "1000 1000\n"
          ]
        }
      ]
    },
    {
      "cell_type": "code",
      "source": [
        "# As we can see both arrays have same number of items we can iterate through them, \n",
        "# another thing is that we could've iterated over them without assigning them to new variables but in pandas docs it is said to be generally slow\n",
        "# Program to generate a random number between 0 and 9\n",
        "\n",
        "# importing the random module\n",
        "import random\n",
        "\n",
        "random.randint(0,9)\n",
        "# The use of multiple try and except blocks are due to the fact that I dont want the whole info to get wasted just becuase one attribute did not captured, so using multiple except\n",
        "# I retain the info of the product which is found. I can remove it too if necessary\n",
        "debug = False #used for debugging when bugs are found\n",
        "start = time()\n",
        "headers = {\n",
        "    'User-Agent': f'Mozilla/5.{random.randint(0,9)} (Windows NT 6.{random.randint(0,9)}) AppleWebKit/537.36 (KHTML, like Gecko) Chrome/41.0.2228.0 Safari/537.36'\n",
        "} ##This header is used to make our request more human because Amazon returned 503 when requested without any headers\n",
        "country = \"\"\n",
        "asin = \"\"\n",
        "products_list = []\n",
        "# url = f\"https://www.amazon.{country}/dp/{asin}\"\n",
        "for i in range(1000):\n",
        "  i_start = time()\n",
        "  asin = asins[i]\n",
        "  country = countries[i]\n",
        "  url = f\"https://www.amazon.{country}/dp/{asin}\"\n",
        "  if debug:\n",
        "    print(url)\n",
        "  content = requests.get(url, headers=headers)\n",
        "  print(i, end=\" \")\n",
        "  if content.status_code == 404:\n",
        "    print(\"Status code 404 encountered. Skipping...\")\n",
        "    continue\n",
        "  soup = BeautifulSoup(content.text)\n",
        "  try:\n",
        "    product_name = soup.find(id=\"productTitle\").get_text()\n",
        "  except AttributeError as f:\n",
        "    product_name = \"\"\n",
        "    # print(f\n",
        "  try:\n",
        "    image_link = soup.find(\"img\", id=[\"landingImage\", \"imgBlkFront\"])[\"src\"]\n",
        "  except (KeyError, TypeError) as f:\n",
        "    image_link = \"\"\n",
        "    # print(f)\n",
        "  if debug:\n",
        "    print(image_link)\n",
        "  #for price we have to go into the div tag containing the price of the product we opened \n",
        "  #to find the price of the actual product you have to explore the child nodes of parent price div\n",
        "  price_div = soup.find(\"div\", {\"id\":\"corePriceDisplay_desktop_feature_div\"}) or soup.find(\"span\", {\"class\":\"a-size-base a-color-price a-color-price\"} or soup.find_all(\"span\", {\"class\":\"a-color-base\"}))\n",
        "  try:\n",
        "    if str(type(price_div)) == \"<class 'bs4.element.ResultSet'>\":\n",
        "      for curr in price_div:\n",
        "        if \"€\" in curr.get_text():\n",
        "          break\n",
        "      price= curr.get_text().replace(u'\\xa0', u' ')\n",
        "    else:\n",
        "      price = price_div.get_text().replace(u'\\xa0', u' ')\n",
        "    spans = price_div.find(\"span\", {\"class\":\"priceToPay\"})\n",
        "    price = spans.find(\"span\", {\"class\":\"a-offscreen\"}).get_text()\n",
        "  except AttributeError as f:\n",
        "    price=\"\"\n",
        "    # print(f)\n",
        "  # for product details find div feature-bullets id and then go inside and find ul and print span text and print the strings of it\n",
        "  about = soup.find(\"div\", {\"id\":\"feature-bullets\"})\n",
        "  try:\n",
        "    spans_of_about = about.find_all(\"span\")\n",
        "  except AttributeError as f:\n",
        "    spans_of_about = \"\"\n",
        "    # print(f)\n",
        "\n",
        "  product_about = []\n",
        "  for j in spans_of_about:\n",
        "    product_about.append(j.get_text().strip())\n",
        "\n",
        "\n",
        "  details = soup.find(\"div\", {\"id\":\"detailBullets_feature_div\",\"class\":\"celwidget\"})\n",
        "  try:\n",
        "    spans_of_detail = details.find_all(\"span\")\n",
        "  except AttributeError as f:\n",
        "    spans_of_detail = \"\"\n",
        "    # print(f)\n",
        "\n",
        "  product_details = []\n",
        "  for k in spans_of_detail:\n",
        "    product_details.append(k.text.strip())\n",
        "  # print(f\"{product_name}, {image_link},{price}, {product_details[0]}\")\n",
        "  product_dict = {\"name\":product_name, \"img_link\":image_link, \"price\":price, \"product_details\":product_details, \"about\":product_about}\n",
        "  products_list.append(product_dict)\n",
        "  i_time = time() - i_start\n",
        "  print(f\"Took {i_time}s\")\n",
        "\n",
        "\n",
        "\n",
        "\n",
        "end = time()\n",
        "time_taken = end - start\n",
        "print(f\"Process took {time_taken:3f}s\")"
      ],
      "metadata": {
        "id": "jq6K6pSWbYbo"
      },
      "execution_count": null,
      "outputs": []
    },
    {
      "cell_type": "code",
      "source": [
        ""
      ],
      "metadata": {
        "id": "nNzHEOG2AALw"
      },
      "execution_count": null,
      "outputs": []
    },
    {
      "cell_type": "code",
      "source": [
        "# import json module\n",
        "import json\n",
        "  \n",
        "# list of dictionaries\n",
        "  \n",
        "# convert into json\n",
        "final = json.dumps(products_list, indent=2)\n",
        "  \n",
        "#save\n",
        "with open(\"products_list_json\", \"w\") as f:\n",
        "    f.write(final)"
      ],
      "metadata": {
        "id": "sdRQQKrEY43g"
      },
      "execution_count": 199,
      "outputs": []
    },
    {
      "cell_type": "code",
      "source": [
        ""
      ],
      "metadata": {
        "id": "rELUyGSTDVl7"
      },
      "execution_count": 199,
      "outputs": []
    }
  ]
}